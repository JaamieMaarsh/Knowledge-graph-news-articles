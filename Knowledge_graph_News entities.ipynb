{
 "cells": [
  {
   "cell_type": "markdown",
   "id": "2452ae73-a64a-465c-a214-603d818003df",
   "metadata": {},
   "source": [
    "### Knowledge graph\n",
    "\n",
    "#### Worked by: Jaamie Maarsh Joy Martin\n",
    "#### Assisted by: Prof. Arasu Narayan"
   ]
  },
  {
   "cell_type": "markdown",
   "id": "74739400-8a23-438d-9a78-796ea6cb5ca7",
   "metadata": {},
   "source": [
    "##### Task: To identify the underlying relationships inherent in the articles based on their 'short_description' and 'headline' attributes."
   ]
  },
  {
   "cell_type": "code",
   "execution_count": 1,
   "id": "dc35cffb-3c58-4259-906c-c51790e4183c",
   "metadata": {},
   "outputs": [
    {
     "name": "stderr",
     "output_type": "stream",
     "text": [
      "[nltk_data] Downloading package punkt to\n",
      "[nltk_data]     /home/joymartin.j/nltk_data...\n",
      "[nltk_data]   Package punkt is already up-to-date!\n",
      "[nltk_data] Downloading package stopwords to\n",
      "[nltk_data]     /home/joymartin.j/nltk_data...\n",
      "[nltk_data]   Package stopwords is already up-to-date!\n",
      "[nltk_data] Downloading package averaged_perceptron_tagger to\n",
      "[nltk_data]     /home/joymartin.j/nltk_data...\n",
      "[nltk_data]   Package averaged_perceptron_tagger is already up-to-\n",
      "[nltk_data]       date!\n",
      "[nltk_data] Downloading package maxent_ne_chunker to\n",
      "[nltk_data]     /home/joymartin.j/nltk_data...\n",
      "[nltk_data]   Package maxent_ne_chunker is already up-to-date!\n",
      "[nltk_data] Downloading package words to\n",
      "[nltk_data]     /home/joymartin.j/nltk_data...\n",
      "[nltk_data]   Package words is already up-to-date!\n"
     ]
    },
    {
     "data": {
      "text/plain": [
       "True"
      ]
     },
     "execution_count": 1,
     "metadata": {},
     "output_type": "execute_result"
    }
   ],
   "source": [
    "import pandas as pd\n",
    "import numpy as np\n",
    "import nltk\n",
    "from nltk.tokenize import sent_tokenize, word_tokenize\n",
    "from nltk.corpus import stopwords\n",
    "from nltk import pos_tag, ne_chunk\n",
    "from nltk.tree import Tree\n",
    "from sklearn.feature_extraction.text import TfidfVectorizer\n",
    "from sklearn.metrics.pairwise import cosine_similarity\n",
    "from sklearn.cluster import KMeans\n",
    "import networkx as nx\n",
    "import matplotlib.pyplot as plt\n",
    "\n",
    "nltk.download('punkt')\n",
    "nltk.download('stopwords')\n",
    "nltk.download('averaged_perceptron_tagger')\n",
    "nltk.download('maxent_ne_chunker')\n",
    "nltk.download('words')"
   ]
  },
  {
   "cell_type": "markdown",
   "id": "8b12e931-6e4e-4be5-b236-21dcb68c7889",
   "metadata": {},
   "source": [
    "#### Loading the dataset"
   ]
  },
  {
   "cell_type": "code",
   "execution_count": 2,
   "id": "7d590bd6-7b33-4e09-9cfd-75825dc4a137",
   "metadata": {},
   "outputs": [
    {
     "data": {
      "text/html": [
       "<div>\n",
       "<style scoped>\n",
       "    .dataframe tbody tr th:only-of-type {\n",
       "        vertical-align: middle;\n",
       "    }\n",
       "\n",
       "    .dataframe tbody tr th {\n",
       "        vertical-align: top;\n",
       "    }\n",
       "\n",
       "    .dataframe thead th {\n",
       "        text-align: right;\n",
       "    }\n",
       "</style>\n",
       "<table border=\"1\" class=\"dataframe\">\n",
       "  <thead>\n",
       "    <tr style=\"text-align: right;\">\n",
       "      <th></th>\n",
       "      <th>headline</th>\n",
       "      <th>short_description</th>\n",
       "    </tr>\n",
       "  </thead>\n",
       "  <tbody>\n",
       "    <tr>\n",
       "      <th>0</th>\n",
       "      <td>Over 4 Million Americans Roll Up Sleeves For O...</td>\n",
       "      <td>Health experts said it is too early to predict...</td>\n",
       "    </tr>\n",
       "    <tr>\n",
       "      <th>1</th>\n",
       "      <td>American Airlines Flyer Charged, Banned For Li...</td>\n",
       "      <td>He was subdued by passengers and crew when he ...</td>\n",
       "    </tr>\n",
       "    <tr>\n",
       "      <th>2</th>\n",
       "      <td>23 Of The Funniest Tweets About Cats And Dogs ...</td>\n",
       "      <td>\"Until you have a dog you don't understand wha...</td>\n",
       "    </tr>\n",
       "    <tr>\n",
       "      <th>3</th>\n",
       "      <td>The Funniest Tweets From Parents This Week (Se...</td>\n",
       "      <td>\"Accidentally put grown-up toothpaste on my to...</td>\n",
       "    </tr>\n",
       "    <tr>\n",
       "      <th>4</th>\n",
       "      <td>Woman Who Called Cops On Black Bird-Watcher Lo...</td>\n",
       "      <td>Amy Cooper accused investment firm Franklin Te...</td>\n",
       "    </tr>\n",
       "    <tr>\n",
       "      <th>...</th>\n",
       "      <td>...</td>\n",
       "      <td>...</td>\n",
       "    </tr>\n",
       "    <tr>\n",
       "      <th>209522</th>\n",
       "      <td>RIM CEO Thorsten Heins' 'Significant' Plans Fo...</td>\n",
       "      <td>Verizon Wireless and AT&amp;T are already promotin...</td>\n",
       "    </tr>\n",
       "    <tr>\n",
       "      <th>209523</th>\n",
       "      <td>Maria Sharapova Stunned By Victoria Azarenka I...</td>\n",
       "      <td>Afterward, Azarenka, more effusive with the pr...</td>\n",
       "    </tr>\n",
       "    <tr>\n",
       "      <th>209524</th>\n",
       "      <td>Giants Over Patriots, Jets Over Colts Among  M...</td>\n",
       "      <td>Leading up to Super Bowl XLVI, the most talked...</td>\n",
       "    </tr>\n",
       "    <tr>\n",
       "      <th>209525</th>\n",
       "      <td>Aldon Smith Arrested: 49ers Linebacker Busted ...</td>\n",
       "      <td>CORRECTION: An earlier version of this story i...</td>\n",
       "    </tr>\n",
       "    <tr>\n",
       "      <th>209526</th>\n",
       "      <td>Dwight Howard Rips Teammates After Magic Loss ...</td>\n",
       "      <td>The five-time all-star center tore into his te...</td>\n",
       "    </tr>\n",
       "  </tbody>\n",
       "</table>\n",
       "<p>209527 rows × 2 columns</p>\n",
       "</div>"
      ],
      "text/plain": [
       "                                                 headline  \\\n",
       "0       Over 4 Million Americans Roll Up Sleeves For O...   \n",
       "1       American Airlines Flyer Charged, Banned For Li...   \n",
       "2       23 Of The Funniest Tweets About Cats And Dogs ...   \n",
       "3       The Funniest Tweets From Parents This Week (Se...   \n",
       "4       Woman Who Called Cops On Black Bird-Watcher Lo...   \n",
       "...                                                   ...   \n",
       "209522  RIM CEO Thorsten Heins' 'Significant' Plans Fo...   \n",
       "209523  Maria Sharapova Stunned By Victoria Azarenka I...   \n",
       "209524  Giants Over Patriots, Jets Over Colts Among  M...   \n",
       "209525  Aldon Smith Arrested: 49ers Linebacker Busted ...   \n",
       "209526  Dwight Howard Rips Teammates After Magic Loss ...   \n",
       "\n",
       "                                        short_description  \n",
       "0       Health experts said it is too early to predict...  \n",
       "1       He was subdued by passengers and crew when he ...  \n",
       "2       \"Until you have a dog you don't understand wha...  \n",
       "3       \"Accidentally put grown-up toothpaste on my to...  \n",
       "4       Amy Cooper accused investment firm Franklin Te...  \n",
       "...                                                   ...  \n",
       "209522  Verizon Wireless and AT&T are already promotin...  \n",
       "209523  Afterward, Azarenka, more effusive with the pr...  \n",
       "209524  Leading up to Super Bowl XLVI, the most talked...  \n",
       "209525  CORRECTION: An earlier version of this story i...  \n",
       "209526  The five-time all-star center tore into his te...  \n",
       "\n",
       "[209527 rows x 2 columns]"
      ]
     },
     "metadata": {},
     "output_type": "display_data"
    }
   ],
   "source": [
    "df_news = pd.read_json('News_Category_Dataset_v3.json', lines=True)\n",
    "\n",
    "# using only necessary columns\n",
    "df_news = df_news[['headline', 'short_description']]\n",
    "\n",
    "display(df_news)\n"
   ]
  },
  {
   "cell_type": "code",
   "execution_count": 3,
   "id": "6ea9e9fa-91e6-48be-ac71-fe6b759005ca",
   "metadata": {},
   "outputs": [
    {
     "data": {
      "text/html": [
       "<div>\n",
       "<style scoped>\n",
       "    .dataframe tbody tr th:only-of-type {\n",
       "        vertical-align: middle;\n",
       "    }\n",
       "\n",
       "    .dataframe tbody tr th {\n",
       "        vertical-align: top;\n",
       "    }\n",
       "\n",
       "    .dataframe thead th {\n",
       "        text-align: right;\n",
       "    }\n",
       "</style>\n",
       "<table border=\"1\" class=\"dataframe\">\n",
       "  <thead>\n",
       "    <tr style=\"text-align: right;\">\n",
       "      <th></th>\n",
       "      <th>news</th>\n",
       "    </tr>\n",
       "  </thead>\n",
       "  <tbody>\n",
       "    <tr>\n",
       "      <th>0</th>\n",
       "      <td>Over 4 Million Americans Roll Up Sleeves For O...</td>\n",
       "    </tr>\n",
       "    <tr>\n",
       "      <th>1</th>\n",
       "      <td>American Airlines Flyer Charged, Banned For Li...</td>\n",
       "    </tr>\n",
       "    <tr>\n",
       "      <th>2</th>\n",
       "      <td>23 Of The Funniest Tweets About Cats And Dogs ...</td>\n",
       "    </tr>\n",
       "    <tr>\n",
       "      <th>3</th>\n",
       "      <td>The Funniest Tweets From Parents This Week (Se...</td>\n",
       "    </tr>\n",
       "    <tr>\n",
       "      <th>4</th>\n",
       "      <td>Woman Who Called Cops On Black Bird-Watcher Lo...</td>\n",
       "    </tr>\n",
       "  </tbody>\n",
       "</table>\n",
       "</div>"
      ],
      "text/plain": [
       "                                                news\n",
       "0  Over 4 Million Americans Roll Up Sleeves For O...\n",
       "1  American Airlines Flyer Charged, Banned For Li...\n",
       "2  23 Of The Funniest Tweets About Cats And Dogs ...\n",
       "3  The Funniest Tweets From Parents This Week (Se...\n",
       "4  Woman Who Called Cops On Black Bird-Watcher Lo..."
      ]
     },
     "metadata": {},
     "output_type": "display_data"
    }
   ],
   "source": [
    "# Combine 'headline' and 'short_description' for analysis\n",
    "df_news['news'] = df_news['headline'] + \" \" + df_news['short_description']\n",
    "\n",
    "# dropping of unnecessary columns\n",
    "df_news.drop(columns=['headline', 'short_description'], inplace=True)\n",
    "\n",
    "display(df_news.head())"
   ]
  },
  {
   "cell_type": "code",
   "execution_count": 4,
   "id": "20a747a8-e3af-45de-85b6-a1ef9b4ded4c",
   "metadata": {},
   "outputs": [
    {
     "name": "stdout",
     "output_type": "stream",
     "text": [
      "<class 'pandas.core.frame.DataFrame'>\n",
      "RangeIndex: 209527 entries, 0 to 209526\n",
      "Data columns (total 1 columns):\n",
      " #   Column  Non-Null Count   Dtype \n",
      "---  ------  --------------   ----- \n",
      " 0   news    209527 non-null  object\n",
      "dtypes: object(1)\n",
      "memory usage: 1.6+ MB\n"
     ]
    }
   ],
   "source": [
    "df_news.info()"
   ]
  },
  {
   "cell_type": "markdown",
   "id": "7f64f661-bbfb-4cb2-b1cc-0fa624a0cefc",
   "metadata": {},
   "source": [
    "#### Text Preprocessing"
   ]
  },
  {
   "cell_type": "code",
   "execution_count": 5,
   "id": "dff4d666-43c1-4f56-a561-c87f8073db8c",
   "metadata": {},
   "outputs": [
    {
     "name": "stdout",
     "output_type": "stream",
     "text": [
      "Over 4 Million Americans Roll Up Sleeves For Omicron-Targeted COVID Boosters Health experts said it is too early to predict whether demand would match up with the 171 million doses of the new boosters the U.S. ordered for the fall.\n",
      "American Airlines Flyer Charged, Banned For Life After Punching Flight Attendant On Video He was subdued by passengers and crew when he fled to the back of the aircraft after the confrontation, according to the U.S. attorney's office in Los Angeles.\n"
     ]
    }
   ],
   "source": [
    "# Display one news entry from the dataset\n",
    "print(df_news['news'].iloc[0])  # Displays the first news item\n",
    "\n",
    "print(df_news['news'].iloc[1])\n",
    "\n"
   ]
  },
  {
   "cell_type": "code",
   "execution_count": 6,
   "id": "68cf1b27-555a-417d-a93b-5140bd5bfabe",
   "metadata": {},
   "outputs": [],
   "source": [
    "# Tokenization \n",
    "df_news['tokenized_news'] = df_news['news'].apply(lambda x: [word_tokenize(sentence) for sentence in sent_tokenize(x)])\n"
   ]
  },
  {
   "cell_type": "code",
   "execution_count": 7,
   "id": "b189ecb0-53ae-4e1c-9834-e73a86374870",
   "metadata": {},
   "outputs": [
    {
     "name": "stdout",
     "output_type": "stream",
     "text": [
      "[['Over', '4', 'Million', 'Americans', 'Roll', 'Up', 'Sleeves', 'For', 'Omicron-Targeted', 'COVID', 'Boosters', 'Health', 'experts', 'said', 'it', 'is', 'too', 'early', 'to', 'predict', 'whether', 'demand', 'would', 'match', 'up', 'with', 'the', '171', 'million', 'doses', 'of', 'the', 'new', 'boosters', 'the', 'U.S.', 'ordered', 'for', 'the', 'fall', '.']]\n"
     ]
    }
   ],
   "source": [
    "# Sample tokenisation\n",
    "print(df_news['tokenized_news'].iloc[0])"
   ]
  },
  {
   "cell_type": "code",
   "execution_count": 8,
   "id": "2e4b7927-e057-4b1e-8497-8de3e4a9eefa",
   "metadata": {},
   "outputs": [],
   "source": [
    "# Parts of speech\n",
    "# POS tagging\n",
    "df_news['pos_news'] = df_news['tokenized_news'].apply(lambda tokenized: [pos_tag(tokens) for tokens in tokenized])\n"
   ]
  },
  {
   "cell_type": "code",
   "execution_count": 9,
   "id": "c74f1c77-726d-43cc-9bb7-8a690faaf087",
   "metadata": {},
   "outputs": [
    {
     "data": {
      "text/plain": [
       "0         [[(Over, IN), (4, CD), (Million, NNP), (Americ...\n",
       "1         [[(American, NNP), (Airlines, NNPS), (Flyer, N...\n",
       "2         [[(23, CD), (Of, IN), (The, DT), (Funniest, NN...\n",
       "3         [[(The, DT), (Funniest, NNP), (Tweets, NNPS), ...\n",
       "4         [[(Woman, NNP), (Who, WP), (Called, VBD), (Cop...\n",
       "                                ...                        \n",
       "209522    [[(RIM, NNP), (CEO, NNP), (Thorsten, NNP), (He...\n",
       "209523    [[(Maria, NNP), (Sharapova, NNP), (Stunned, VB...\n",
       "209524    [[(Giants, NNS), (Over, IN), (Patriots, NNP), ...\n",
       "209525    [[(Aldon, NNP), (Smith, NNP), (Arrested, NNP),...\n",
       "209526    [[(Dwight, NNP), (Howard, NNP), (Rips, NNP), (...\n",
       "Name: pos_news, Length: 209527, dtype: object"
      ]
     },
     "metadata": {},
     "output_type": "display_data"
    }
   ],
   "source": [
    "display(df_news['pos_news'])"
   ]
  },
  {
   "cell_type": "code",
   "execution_count": null,
   "id": "66d04806-1600-4b30-bf33-b74f85d4c5bc",
   "metadata": {},
   "outputs": [],
   "source": []
  },
  {
   "cell_type": "code",
   "execution_count": null,
   "id": "c5aaead2-f949-4ecd-90e7-89935b37d751",
   "metadata": {},
   "outputs": [],
   "source": [
    "# Named Entity Recognition (NER)\n",
    "def extract_entities(pos_news):\n",
    "    entities = []\n",
    "    for sentence in pos_news:\n",
    "        tree = ne_chunk(sentence)\n",
    "        for subtree in tree:\n",
    "            if isinstance(subtree, Tree):  # If it's a named entity subtree\n",
    "                entity = \" \".join(word for word, tag in subtree.leaves())\n",
    "                entities.append(entity)\n",
    "    return entities\n",
    "\n",
    "df_news['News_entities'] = df_news['pos_news'].apply(extract_entities)\n"
   ]
  },
  {
   "cell_type": "code",
   "execution_count": null,
   "id": "28cb57dd-1098-4de6-8111-3689132895a9",
   "metadata": {},
   "outputs": [],
   "source": [
    "stop_words = set(stopwords.words('english'))\n",
    "def preprocess_text(text):\n",
    "    tokens = word_tokenize(text.lower())\n",
    "    tokens = [word for word in tokens if word.isalnum() and word not in stop_words]\n",
    "    return \" \".join(tokens)\n",
    "\n",
    "df_news['processed_text'] = df_news['news'].apply(preprocess_text)\n"
   ]
  },
  {
   "cell_type": "code",
   "execution_count": null,
   "id": "ab61ceb7-690a-428f-ab73-4c53d6843f5a",
   "metadata": {},
   "outputs": [],
   "source": [
    "# TF-IDF vectorization\n",
    "vectorizer = TfidfVectorizer(max_features=1000)\n",
    "tfidf_matrix = vectorizer.fit_transform(df_news['processed_text'])\n",
    "\n",
    "# Cosine similarity\n",
    "cosine_sim = cosine_similarity(tfidf_matrix)\n"
   ]
  },
  {
   "cell_type": "code",
   "execution_count": null,
   "id": "4325481a-29e8-4832-8aac-2077a7bac28d",
   "metadata": {},
   "outputs": [],
   "source": [
    "# Clustering using K-Means\n",
    "num_clusters = 10\n",
    "kmeans = KMeans(n_clusters=num_clusters, random_state=42)\n",
    "clusters = kmeans.fit_predict(tfidf_matrix)\n",
    "df_news['cluster'] = clusters\n",
    "\n",
    "# Create a graph based on similarity\n",
    "G = nx.Graph()\n",
    "\n",
    "# Add nodes with attributes\n",
    "for idx, row in df.iterrows():\n",
    "    G.add_node(idx, label=row['text'], cluster=row['cluster'])\n",
    "\n",
    "# Add edges if similarity exceeds a threshold\n",
    "threshold = 0.3\n",
    "for i in range(len(cosine_sim)):\n",
    "    for j in range(i + 1, len(cosine_sim)):\n",
    "        if cosine_sim[i, j] > threshold:\n",
    "            G.add_edge(i, j, weight=cosine_sim[i, j])\n",
    "\n",
    "# Visualize the graph\n",
    "plt.figure(figsize=(12, 12))\n",
    "pos = nx.spring_layout(G)\n",
    "colors = [df_news.loc[node]['cluster'] for node in G.nodes]\n",
    "nx.draw_networkx_nodes(G, pos, node_size=50, node_color=colors, cmap=plt.cm.tab10)\n",
    "nx.draw_networkx_edges(G, pos, alpha=0.5)\n",
    "plt.title(\"Article Relationship Graph\")\n",
    "plt.show()\n"
   ]
  }
 ],
 "metadata": {
  "kernelspec": {
   "display_name": "Python 3",
   "language": "python",
   "name": "python3"
  },
  "language_info": {
   "codemirror_mode": {
    "name": "ipython",
    "version": 3
   },
   "file_extension": ".py",
   "mimetype": "text/x-python",
   "name": "python",
   "nbconvert_exporter": "python",
   "pygments_lexer": "ipython3",
   "version": "3.8.8"
  }
 },
 "nbformat": 4,
 "nbformat_minor": 5
}
